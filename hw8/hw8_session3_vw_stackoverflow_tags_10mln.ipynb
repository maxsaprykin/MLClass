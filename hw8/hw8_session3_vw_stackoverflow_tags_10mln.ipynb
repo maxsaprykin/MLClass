{
 "cells": [
  {
   "cell_type": "markdown",
   "metadata": {},
   "source": [
    "<center>\n",
    "<img src=\"../../img/ods_stickers.jpg\">\n",
    "## Открытый курс по машинному обучению. Сессия №3\n",
    "<center>Автор материала: программист-исследователь Mail.Ru Group Юрий Кашницкий"
   ]
  },
  {
   "cell_type": "markdown",
   "metadata": {},
   "source": [
    "# <center> Домашнее задание № 8\n",
    "## <center> Vowpal Wabbit в задаче классификации тегов вопросов на Stackoverflow"
   ]
  },
  {
   "cell_type": "markdown",
   "metadata": {},
   "source": [
    "## План\n",
    "    1. Введение\n",
    "    2. Описание данных\n",
    "    3. Предобработка данных\n",
    "    4. Обучение и проверка моделей\n",
    "    5. Заключение"
   ]
  },
  {
   "cell_type": "markdown",
   "metadata": {},
   "source": [
    "### 1. Введение\n",
    "\n",
    "В этом задании вы будете делать примерно то же, что я каждую неделю –  в Mail.Ru Group: обучать модели на выборке в несколько гигабайт. Задание можно выполнить и на Windows с Python, но я рекомендую поработать под \\*NIX-системой (например, через Docker) и активно использовать язык bash.\n",
    "Немного снобизма (простите, но правда): если вы захотите работать в лучших компаниях мира в области ML, вам все равно понадобится опыт работы с bash под UNIX.\n",
    "\n",
    "[Веб-форма](https://docs.google.com/forms/d/1VaxYXnmbpeP185qPk2_V_BzbeduVUVyTdLPQwSCxDGA/edit) для ответов.\n",
    "\n",
    "Для выполнения задания понадобится установленный Vowpal Wabbit (уже есть в докер-контейнере курса, см. инструкцию в Wiki [репозитория](https://github.com/Yorko/mlcourse_open) нашего курса) и примерно 70 Гб дискового пространства. Я тестировал решение не на каком-то суперкомпе, а на Macbook Pro 2015 (8 ядер, 16 Гб памяти), и самая тяжеловесная модель обучалась около 12 минут, так что задание реально выполнить и с простым железом. Но если вы планируете когда-либо арендовать сервера Amazon, можно попробовать это сделать уже сейчас.\n",
    "\n",
    "Материалы в помощь:\n",
    " - интерактивный [тьюториал](https://www.codecademy.com/en/courses/learn-the-command-line/lessons/environment/exercises/bash-profile) CodeAcademy по утилитам командной строки UNIX (примерно на час-полтора)\n",
    " - [статья](https://habrahabr.ru/post/280562/) про то, как арендовать на Amazon машину (еще раз: это не обязательно для выполнения задания, но будет хорошим опытом, если вы это делаете впервые)"
   ]
  },
  {
   "cell_type": "markdown",
   "metadata": {},
   "source": [
    "### 2. Описание данных"
   ]
  },
  {
   "cell_type": "markdown",
   "metadata": {},
   "source": [
    "Имеются 10 Гб вопросов со StackOverflow – [скачайте](https://drive.google.com/file/d/1ZU4J3KhJDrHVMj48fROFcTsTZKorPGlG/view) и распакуйте архив. \n",
    "\n",
    "Формат данных простой:<br>\n",
    "<center>*текст вопроса* (слова через пробел) TAB *теги вопроса* (через пробел)\n",
    "\n",
    "Здесь TAB – это символ табуляции.\n",
    "Пример первой записи в выборке:"
   ]
  },
  {
   "cell_type": "code",
   "execution_count": 2,
   "metadata": {},
   "outputs": [
    {
     "name": "stderr",
     "output_type": "stream",
     "text": [
      "\"head\" не является внутренней или внешней\n",
      "командой, исполняемой программой или пакетным файлом.\n"
     ]
    }
   ],
   "source": [
    "!head -1 stackoverflow_10mln.tsv"
   ]
  },
  {
   "cell_type": "markdown",
   "metadata": {},
   "source": [
    "Здесь у нас текст вопроса, затем табуляция и теги вопроса: *css, css3* и *css-selectors*. Всего в выборке таких вопросов 10 миллионов. "
   ]
  },
  {
   "cell_type": "code",
   "execution_count": 2,
   "metadata": {},
   "outputs": [
    {
     "name": "stdout",
     "output_type": "stream",
     "text": [
      "Wall time: 26 ms\n"
     ]
    },
    {
     "name": "stderr",
     "output_type": "stream",
     "text": [
      "\"wc\" не является внутренней или внешней\n",
      "командой, исполняемой программой или пакетным файлом.\n"
     ]
    }
   ],
   "source": [
    "%%time\n",
    "!wc -l stackoverflow_10mln.tsv"
   ]
  },
  {
   "cell_type": "markdown",
   "metadata": {},
   "source": [
    "Обратите внимание на то, что такие данные я уже не хочу загружать в оперативную память и, пока можно, буду пользоваться эффективными утилитами UNIX –  head, tail, wc, cat, cut и прочими."
   ]
  },
  {
   "cell_type": "markdown",
   "metadata": {},
   "source": [
    "### 3. Предобработка данных"
   ]
  },
  {
   "cell_type": "markdown",
   "metadata": {},
   "source": [
    "Давайте выберем в наших данных все вопросы с тегами *javascript, java, python, ruby, php, c++, c#, go, scala* и  *swift* и подготовим обучающую выборку в формате Vowpal Wabbit. Будем решать задачу 10-классовой классификации вопросов по перечисленным тегам.\n",
    "\n",
    "Вообще, как мы видим, у каждого вопроса может быть несколько тегов, но мы упростим себе задачу и будем у каждого вопроса выбирать один из перечисленных тегов либо игнорировать вопрос, если таковых тегов нет. \n",
    "Но вообще VW поддерживает multilabel classification (аргумент  --multilabel_oaa).\n",
    "<br>\n",
    "<br>\n",
    "Реализуйте в виде отдельного файла `preprocess.py` код для подготовки данных. Он должен отобрать строки, в которых есть перечисленные теги, и переписать их в отдельный файл в формат Vowpal Wabbit. Детали:\n",
    " - скрипт должен работать с аргументами командной строки: с путями к файлам на входе и на выходе\n",
    " - строки обрабатываются по одной (можно использовать tqdm для подсчета числа итераций)\n",
    " - если табуляций в строке нет или их больше одной, считаем строку поврежденной и пропускаем\n",
    " - в противном случае смотрим, сколько в строке тегов из списка *javascript, java, python, ruby, php, c++, c#, go, scala* и  *swift*. Если ровно один, то записываем строку в выходной файл в формате VW: `label | text`, где `label` – число от 1 до 10 (1 - *javascript*, ... 10 – *swift*). Пропускаем те строки, где интересующих тегов больше или меньше одного \n",
    " - из текста вопроса надо выкинуть двоеточия и вертикальные палки, если они есть – в VW это спецсимволы"
   ]
  },
  {
   "cell_type": "code",
   "execution_count": 3,
   "metadata": {
    "collapsed": true
   },
   "outputs": [],
   "source": [
    "import os\n",
    "from tqdm import tqdm\n",
    "from time import time\n",
    "import numpy as np\n",
    "from sklearn.metrics import accuracy_score"
   ]
  },
  {
   "cell_type": "code",
   "execution_count": 4,
   "metadata": {},
   "outputs": [
    {
     "name": "stderr",
     "output_type": "stream",
     "text": [
      "100%|██████████| 10000000/10000000 [06:34<00:00, 25342.79it/s]\n"
     ]
    }
   ],
   "source": [
    "input_filename = 'stackoverflow_10mln.tsv'\n",
    "output_filename  = 'stackoverflow.vw'\n",
    "output_file = open(output_filename, 'a')\n",
    "\n",
    "#теги классов, на которые мы будем классифицировать весь текст\n",
    "target_tags = ['javascript', 'java', 'python', 'ruby', 'php', 'c++', 'c#', 'go', 'scala', 'swift']\n",
    "\n",
    "with open(input_filename) as file:\n",
    "\tfor line in tqdm(file, total = 10000000):\n",
    "\t\tline = line.strip()        \n",
    "\t\tif (line.count('\\t') == 0) or (line.count('\\t') > 1):\n",
    "\t\t\tcontinue\n",
    "\t\telse:\t\t             \n",
    "\t\t\tsplited_line = line.split('\\t')\n",
    "\t\t\ttext = splited_line[0]\n",
    "\t\t\ttags = splited_line[1]\n",
    "\t\t\ttags = tags.replace('\\n', '')\n",
    "\t\t\ttags = tags.split(' ')\n",
    "\t\t\ttags_counter = 0\n",
    "\t\t\tnew_tags = []           \n",
    "\t\t\tfor tag in tags:\n",
    "\t\t\t\tif (tag in target_tags):\n",
    "\t\t\t\t\tnew_tags.append(tag)\n",
    "\t\t\t\ttags = new_tags\n",
    "\t\t\tfor tag in target_tags:\n",
    "\t\t\t\tif (tag in tags):\n",
    "\t\t\t\t\ttags_counter = tags_counter + 1\n",
    "\t\t\tif (tags_counter != 1):\n",
    "\t\t\t\tcontinue\n",
    "\t\t\telse:\n",
    "\t\t\t\ttext = text.replace('?','')\n",
    "\t\t\t\ttext = text.replace(':','')\n",
    "\t\t\t\ttext = text.replace('|','')\n",
    "\t\t\t\tnew_line = str(int(target_tags.index(tags[0])) + 1) + ' | ' + str(text) + '\\n'                \n",
    "\t\t\t\toutput_file.write(new_line)\n",
    "output_file.close()"
   ]
  },
  {
   "cell_type": "markdown",
   "metadata": {
    "collapsed": true
   },
   "source": [
    "Должно получиться вот такое число строк – 4389054. Как видите, 10 Гб у меня обработались примерно за полторы минуты."
   ]
  },
  {
   "cell_type": "markdown",
   "metadata": {},
   "source": [
    "Поделите выборку на обучающую, проверочную и тестовую части в равной пропорции - по  1463018 в каждый файл. Перемешивать не надо, первые 1463018 строк должны пойти в обучающую часть `stackoverflow_train.vw`, последние 1463018 – в тестовую `stackoverflow_test.vw`, оставшиеся – в проверочную `stackoverflow_valid.vw`. \n",
    "\n",
    "Также сохраните векторы ответов для проверочной и тестовой выборки в отдельные файлы `stackoverflow_valid_labels.txt` и `stackoverflow_test_labels.txt`.\n",
    "\n",
    "Тут вам помогут утилиты `head`, `tail`, `split`, `cat` и `cut`."
   ]
  },
  {
   "cell_type": "code",
   "execution_count": 5,
   "metadata": {},
   "outputs": [
    {
     "name": "stderr",
     "output_type": "stream",
     "text": [
      "\"split\" не является внутренней или внешней\n",
      "командой, исполняемой программой или пакетным файлом.\n"
     ]
    }
   ],
   "source": [
    "!split -l 1463018 stackoverflow.vw"
   ]
  },
  {
   "cell_type": "code",
   "execution_count": 6,
   "metadata": {},
   "outputs": [
    {
     "name": "stderr",
     "output_type": "stream",
     "text": [
      "\"cut\" не является внутренней или внешней\n",
      "командой, исполняемой программой или пакетным файлом.\n",
      "\"cut\" не является внутренней или внешней\n",
      "командой, исполняемой программой или пакетным файлом.\n"
     ]
    }
   ],
   "source": [
    "!cut -c1 stackoverflow_valid.vw > stackoverflow_valid_labels.txt\n",
    "!cut -c1 stackoverflow_train.vw > stackoverflow_valid_train.txt"
   ]
  },
  {
   "cell_type": "markdown",
   "metadata": {},
   "source": [
    "### 4. Обучение и проверка моделей"
   ]
  },
  {
   "cell_type": "markdown",
   "metadata": {},
   "source": [
    "Обучите Vowpal Wabbit на выборке `stackoverflow_train.vw` 9 раз, перебирая параметры passes (1,3,5), ngram (1,2,3).\n",
    "Остальные параметры укажите следующие: bit_precision=28 и seed=17. Также скажите VW, что это 10-классовая задача.\n",
    "\n",
    "Проверяйте долю правильных ответов на выборке `stackoverflow_valid.vw`. Выберите лучшую модель и проверьте качество на выборке `stackoverflow_test.vw`."
   ]
  },
  {
   "cell_type": "code",
   "execution_count": null,
   "metadata": {},
   "outputs": [
    {
     "name": "stderr",
     "output_type": "stream",
     "text": [
      "Generating 1-grams for all namespaces.\n",
      "final_regressor = model.vw\n",
      "Num weight bits = 28\n",
      "learning rate = 0.5\n",
      "initial_t = 0\n",
      "power_t = 0.5\n",
      "using cache_file = stackoverflow_train.vw.cache\n",
      "ignoring text input in favor of cache input\n",
      "num sources = 1\n",
      "average  since         example        example  current  current  current\n",
      "loss     last          counter         weight    label  predict features\n",
      "0.000000 0.000000            1            1.0        1        1      161\n",
      "0.500000 1.000000            2            2.0        4        1       68\n",
      "0.750000 1.000000            4            4.0        7        1       88\n",
      "0.750000 0.750000            8            8.0        7        1       95\n",
      "0.750000 0.750000           16           16.0        7        7      209\n",
      "0.781250 0.812500           32           32.0        7        2      174\n",
      "0.765625 0.750000           64           64.0        3        3      204\n",
      "0.648438 0.531250          128          128.0        1        5       29\n",
      "0.609375 0.570313          256          256.0        5        1      169\n",
      "0.548828 0.488281          512          512.0        2        2      303\n",
      "0.456055 0.363281         1024         1024.0        3        3      123\n",
      "0.375000 0.293945         2048         2048.0        1        5       83\n",
      "0.309082 0.243164         4096         4096.0        1        1       79\n",
      "0.261841 0.214600         8192         8192.0        2        2      112\n",
      "0.220825 0.179810        16384        16384.0        7        7      252\n",
      "0.186096 0.151367        32768        32768.0        4        5      134\n",
      "0.159149 0.132202        65536        65536.0        5        5      145\n",
      "0.138329 0.117508       131072       131072.0        7        2      255\n",
      "0.120888 0.103447       262144       262144.0        7        7      101\n",
      "0.108549 0.096210       524288       524288.0        1        1      818\n",
      "0.099817 0.091085      1048576      1048576.0        1        1      571\n",
      "\n",
      "finished run\n",
      "number of examples per pass = 1463018\n",
      "passes used = 1\n",
      "weighted example sum = 1463018.000000\n",
      "weighted label sum = 0.000000\n",
      "average loss = 0.095764\n",
      "total feature number = 291954690\n"
     ]
    },
    {
     "name": "stdout",
     "output_type": "stream",
     "text": [
      "For ngram:1 and pass:1 - score:0.8964619710762274\n"
     ]
    },
    {
     "name": "stderr",
     "output_type": "stream",
     "text": [
      "Generating 1-grams for all namespaces.\n",
      "final_regressor = model.vw\n",
      "Num weight bits = 28\n",
      "learning rate = 0.5\n",
      "initial_t = 0\n",
      "power_t = 0.5\n",
      "decay_learning_rate = 1\n",
      "using cache_file = stackoverflow_train.vw.cache\n",
      "ignoring text input in favor of cache input\n",
      "num sources = 1\n",
      "average  since         example        example  current  current  current\n",
      "loss     last          counter         weight    label  predict features\n",
      "0.000000 0.000000            1            1.0        1        1      161\n",
      "0.500000 1.000000            2            2.0        4        1       68\n",
      "0.750000 1.000000            4            4.0        7        1       88\n",
      "0.750000 0.750000            8            8.0        7        1       95\n",
      "0.750000 0.750000           16           16.0        2        7      159\n",
      "0.750000 0.750000           32           32.0        1        7      404\n",
      "0.703125 0.656250           64           64.0        7        7      103\n",
      "0.617188 0.531250          128          128.0        5        5      276\n",
      "0.593750 0.570313          256          256.0        1        1      102\n",
      "0.533203 0.472656          512          512.0        2        5       68\n",
      "0.457031 0.380859         1024         1024.0        1        1      132\n",
      "0.383301 0.309570         2048         2048.0        7        7       71\n",
      "0.310059 0.236816         4096         4096.0        2        2      319\n",
      "0.262085 0.214111         8192         8192.0        5        5       24\n",
      "0.223450 0.184814        16384        16384.0        3        3      581\n",
      "0.185547 0.147644        32768        32768.0        3        3       28\n",
      "0.158493 0.131439        65536        65536.0        4        4      184\n",
      "0.137115 0.115738       131072       131072.0        2        2       95\n",
      "0.121109 0.105103       262144       262144.0        5        5      232\n",
      "0.108404 0.095699       524288       524288.0        6        6      142\n",
      "0.100007 0.091610      1048576      1048576.0        1        1      422\n",
      "0.092582 0.092582      2097152      2097152.0        5        5      696 h\n",
      "\n",
      "finished run\n",
      "number of examples per pass = 1316717\n",
      "passes used = 3\n",
      "weighted example sum = 3950151.000000\n",
      "weighted label sum = 0.000000\n",
      "average loss = 0.084107 h\n",
      "total feature number = 788274150\n"
     ]
    },
    {
     "name": "stdout",
     "output_type": "stream",
     "text": [
      "For ngram:1 and pass:3 - score:0.8976424076805617\n"
     ]
    },
    {
     "name": "stderr",
     "output_type": "stream",
     "text": [
      "Generating 1-grams for all namespaces.\n",
      "final_regressor = model.vw\n",
      "Num weight bits = 28\n",
      "learning rate = 0.5\n",
      "initial_t = 0\n",
      "power_t = 0.5\n",
      "decay_learning_rate = 1\n",
      "using cache_file = stackoverflow_train.vw.cache\n",
      "ignoring text input in favor of cache input\n",
      "num sources = 1\n",
      "average  since         example        example  current  current  current\n",
      "loss     last          counter         weight    label  predict features\n",
      "0.000000 0.000000            1            1.0        1        1      161\n",
      "0.500000 1.000000            2            2.0        4        1       68\n",
      "0.750000 1.000000            4            4.0        7        1       88\n",
      "0.750000 0.750000            8            8.0        7        1       95\n",
      "0.750000 0.750000           16           16.0        2        7      159\n",
      "0.750000 0.750000           32           32.0        1        7      404\n",
      "0.703125 0.656250           64           64.0        7        7      103\n",
      "0.617188 0.531250          128          128.0        5        5      276\n",
      "0.593750 0.570313          256          256.0        1        1      102\n",
      "0.533203 0.472656          512          512.0        2        5       68\n",
      "0.457031 0.380859         1024         1024.0        1        1      132\n",
      "0.383301 0.309570         2048         2048.0        7        7       71\n",
      "0.310059 0.236816         4096         4096.0        2        2      319\n",
      "0.262085 0.214111         8192         8192.0        5        5       24\n",
      "0.223450 0.184814        16384        16384.0        3        3      581\n",
      "0.185547 0.147644        32768        32768.0        3        3       28\n",
      "0.158493 0.131439        65536        65536.0        4        4      184\n",
      "0.137115 0.115738       131072       131072.0        2        2       95\n",
      "0.121109 0.105103       262144       262144.0        5        5      232\n",
      "0.108404 0.095699       524288       524288.0        6        6      142\n",
      "0.100007 0.091610      1048576      1048576.0        1        1      422\n",
      "0.092582 0.092582      2097152      2097152.0        5        5      696 h\n",
      "0.088155 0.083728      4194304      4194304.0        1        1      216 h\n",
      "\n",
      "finished run\n",
      "number of examples per pass = 1316717\n",
      "passes used = 5\n",
      "weighted example sum = 6583585.000000\n",
      "weighted label sum = 0.000000\n",
      "average loss = 0.083287 h\n",
      "total feature number = 1313790250\n"
     ]
    },
    {
     "name": "stdout",
     "output_type": "stream",
     "text": [
      "For ngram:1 and pass:5 - score:0.8974264158062307\n"
     ]
    },
    {
     "name": "stderr",
     "output_type": "stream",
     "text": [
      "Generating 2-grams for all namespaces.\n",
      "final_regressor = model.vw\n",
      "Num weight bits = 28\n",
      "learning rate = 0.5\n",
      "initial_t = 0\n",
      "power_t = 0.5\n",
      "using cache_file = stackoverflow_train.vw.cache\n",
      "ignoring text input in favor of cache input\n",
      "num sources = 1\n",
      "average  since         example        example  current  current  current\n",
      "loss     last          counter         weight    label  predict features\n",
      "0.000000 0.000000            1            1.0        1        1      320\n",
      "0.500000 1.000000            2            2.0        4        1      134\n",
      "0.750000 1.000000            4            4.0        7        1      174\n",
      "0.750000 0.750000            8            8.0        7        1      188\n",
      "0.750000 0.750000           16           16.0        7        7      416\n",
      "0.781250 0.812500           32           32.0        7        2      346\n",
      "0.750000 0.718750           64           64.0        3        3      406\n",
      "0.648438 0.546875          128          128.0        1        7       56\n",
      "0.617188 0.585938          256          256.0        5        1      336\n",
      "0.548828 0.480469          512          512.0        2        2      604\n",
      "0.454102 0.359375         1024         1024.0        3        3      244\n",
      "0.375000 0.295898         2048         2048.0        1        5      164\n",
      "0.306396 0.237793         4096         4096.0        1        1      156\n",
      "0.254761 0.203125         8192         8192.0        2        2      222\n",
      "0.211426 0.168091        16384        16384.0        7        7      502\n",
      "0.176117 0.140808        32768        32768.0        4        5      266\n",
      "0.147873 0.119629        65536        65536.0        5        5      288\n",
      "0.126411 0.104950       131072       131072.0        7        2      508\n",
      "0.108402 0.090393       262144       262144.0        7        7      200\n",
      "0.097092 0.085781       524288       524288.0        1        1     1634\n",
      "0.086005 0.074919      1048576      1048576.0        1        1     1140\n",
      "\n",
      "finished run\n",
      "number of examples per pass = 1463018\n",
      "passes used = 1\n",
      "weighted example sum = 1463018.000000\n",
      "weighted label sum = 0.000000\n",
      "average loss = 0.081809\n",
      "total feature number = 580983344\n"
     ]
    },
    {
     "name": "stdout",
     "output_type": "stream",
     "text": [
      "For ngram:2 and pass:1 - score:0.9115533780172219\n"
     ]
    },
    {
     "name": "stderr",
     "output_type": "stream",
     "text": [
      "Generating 2-grams for all namespaces.\n",
      "final_regressor = model.vw\n",
      "Num weight bits = 28\n",
      "learning rate = 0.5\n",
      "initial_t = 0\n",
      "power_t = 0.5\n",
      "decay_learning_rate = 1\n",
      "using cache_file = stackoverflow_train.vw.cache\n",
      "ignoring text input in favor of cache input\n",
      "num sources = 1\n",
      "average  since         example        example  current  current  current\n",
      "loss     last          counter         weight    label  predict features\n",
      "0.000000 0.000000            1            1.0        1        1      320\n",
      "0.500000 1.000000            2            2.0        4        1      134\n",
      "0.750000 1.000000            4            4.0        7        1      174\n",
      "0.750000 0.750000            8            8.0        7        1      188\n",
      "0.750000 0.750000           16           16.0        2        7      316\n",
      "0.718750 0.687500           32           32.0        1        7      806\n",
      "0.703125 0.687500           64           64.0        7        7      204\n",
      "0.632813 0.562500          128          128.0        5        5      550\n",
      "0.609375 0.585938          256          256.0        1        1      202\n",
      "0.531250 0.453125          512          512.0        2        5      134\n",
      "0.458984 0.386719         1024         1024.0        1        1      262\n",
      "0.382813 0.306641         2048         2048.0        7        7      140\n",
      "0.305664 0.228516         4096         4096.0        2        2      636\n",
      "0.255249 0.204834         8192         8192.0        5        7       46\n",
      "0.215027 0.174805        16384        16384.0        3        3     1160\n",
      "0.177612 0.140198        32768        32768.0        3        3       54\n",
      "0.148590 0.119568        65536        65536.0        4        4      366\n",
      "0.127281 0.105972       131072       131072.0        2        2      188\n",
      "0.110416 0.093552       262144       262144.0        5        5      462\n",
      "0.096605 0.082794       524288       524288.0        6        6      282\n",
      "0.086320 0.076035      1048576      1048576.0        1        1      842\n",
      "0.077806 0.077806      2097152      2097152.0        5        5     1390 h\n",
      "\n",
      "finished run\n",
      "number of examples per pass = 1316717\n",
      "passes used = 3\n",
      "weighted example sum = 3950151.000000\n",
      "weighted label sum = 0.000000\n",
      "average loss = 0.069835 h\n",
      "total feature number = 1568647998\n"
     ]
    },
    {
     "name": "stdout",
     "output_type": "stream",
     "text": [
      "For ngram:2 and pass:3 - score:0.9094898353950532\n"
     ]
    },
    {
     "name": "stderr",
     "output_type": "stream",
     "text": [
      "Generating 2-grams for all namespaces.\n",
      "final_regressor = model.vw\n",
      "Num weight bits = 28\n",
      "learning rate = 0.5\n",
      "initial_t = 0\n",
      "power_t = 0.5\n",
      "decay_learning_rate = 1\n",
      "using cache_file = stackoverflow_train.vw.cache\n",
      "ignoring text input in favor of cache input\n",
      "num sources = 1\n",
      "average  since         example        example  current  current  current\n",
      "loss     last          counter         weight    label  predict features\n",
      "0.000000 0.000000            1            1.0        1        1      320\n",
      "0.500000 1.000000            2            2.0        4        1      134\n",
      "0.750000 1.000000            4            4.0        7        1      174\n",
      "0.750000 0.750000            8            8.0        7        1      188\n",
      "0.750000 0.750000           16           16.0        2        7      316\n",
      "0.718750 0.687500           32           32.0        1        7      806\n",
      "0.703125 0.687500           64           64.0        7        7      204\n",
      "0.632813 0.562500          128          128.0        5        5      550\n",
      "0.609375 0.585938          256          256.0        1        1      202\n",
      "0.531250 0.453125          512          512.0        2        5      134\n",
      "0.458984 0.386719         1024         1024.0        1        1      262\n",
      "0.382813 0.306641         2048         2048.0        7        7      140\n",
      "0.305664 0.228516         4096         4096.0        2        2      636\n",
      "0.255249 0.204834         8192         8192.0        5        7       46\n",
      "0.215027 0.174805        16384        16384.0        3        3     1160\n",
      "0.177612 0.140198        32768        32768.0        3        3       54\n",
      "0.148590 0.119568        65536        65536.0        4        4      366\n",
      "0.127281 0.105972       131072       131072.0        2        2      188\n",
      "0.110416 0.093552       262144       262144.0        5        5      462\n",
      "0.096605 0.082794       524288       524288.0        6        6      282\n",
      "0.086320 0.076035      1048576      1048576.0        1        1      842\n",
      "0.077806 0.077806      2097152      2097152.0        5        5     1390 h\n",
      "0.073817 0.069828      4194304      4194304.0        1        1      430 h\n",
      "\n",
      "finished run\n",
      "number of examples per pass = 1316717\n",
      "passes used = 5\n",
      "weighted example sum = 6583585.000000\n",
      "weighted label sum = 0.000000\n",
      "average loss = 0.069835 h\n",
      "total feature number = 2614413330\n"
     ]
    },
    {
     "name": "stdout",
     "output_type": "stream",
     "text": [
      "For ngram:2 and pass:5 - score:0.910154215464198\n"
     ]
    },
    {
     "name": "stderr",
     "output_type": "stream",
     "text": [
      "Generating 3-grams for all namespaces.\n",
      "final_regressor = model.vw\n",
      "Num weight bits = 28\n",
      "learning rate = 0.5\n",
      "initial_t = 0\n",
      "power_t = 0.5\n",
      "using cache_file = stackoverflow_train.vw.cache\n",
      "ignoring text input in favor of cache input\n",
      "num sources = 1\n",
      "average  since         example        example  current  current  current\n",
      "loss     last          counter         weight    label  predict features\n",
      "0.000000 0.000000            1            1.0        1        1      478\n",
      "0.500000 1.000000            2            2.0        4        1      199\n",
      "0.750000 1.000000            4            4.0        7        1      259\n",
      "0.750000 0.750000            8            8.0        7        1      280\n",
      "0.750000 0.750000           16           16.0        7        7      622\n",
      "0.781250 0.812500           32           32.0        7        2      517\n",
      "0.750000 0.718750           64           64.0        3        3      607\n",
      "0.648438 0.546875          128          128.0        1        7       82\n",
      "0.628906 0.609375          256          256.0        5        1      502\n",
      "0.564453 0.500000          512          512.0        2        2      904\n",
      "0.471680 0.378906         1024         1024.0        3        3      364\n",
      "0.400879 0.330078         2048         2048.0        1        5      244\n",
      "0.333252 0.265625         4096         4096.0        1        1      232\n",
      "0.281006 0.228760         8192         8192.0        2        2      331\n",
      "0.232361 0.183716        16384        16384.0        7        7      751\n",
      "0.192169 0.151978        32768        32768.0        4        5      397\n",
      "0.160690 0.129211        65536        65536.0        5        5      430\n",
      "0.136086 0.111481       131072       131072.0        7        2      760\n",
      "0.115993 0.095901       262144       262144.0        7        7      298\n",
      "0.102705 0.089417       524288       524288.0        1        1     2449\n",
      "0.090337 0.077969      1048576      1048576.0        1        1     1708\n",
      "\n",
      "finished run\n",
      "number of examples per pass = 1463018\n",
      "passes used = 1\n",
      "weighted example sum = 1463018.000000\n",
      "weighted label sum = 0.000000\n",
      "average loss = 0.085885\n",
      "total feature number = 868548985\n"
     ]
    },
    {
     "name": "stdout",
     "output_type": "stream",
     "text": [
      "For ngram:3 and pass:1 - score:0.9091022803547189\n"
     ]
    },
    {
     "name": "stderr",
     "output_type": "stream",
     "text": [
      "Generating 3-grams for all namespaces.\n",
      "final_regressor = model.vw\n",
      "Num weight bits = 28\n",
      "learning rate = 0.5\n",
      "initial_t = 0\n",
      "power_t = 0.5\n",
      "decay_learning_rate = 1\n",
      "using cache_file = stackoverflow_train.vw.cache\n",
      "ignoring text input in favor of cache input\n",
      "num sources = 1\n",
      "average  since         example        example  current  current  current\n",
      "loss     last          counter         weight    label  predict features\n",
      "0.000000 0.000000            1            1.0        1        1      478\n",
      "0.500000 1.000000            2            2.0        4        1      199\n",
      "0.750000 1.000000            4            4.0        7        1      259\n",
      "0.750000 0.750000            8            8.0        7        1      280\n",
      "0.750000 0.750000           16           16.0        2        7      472\n",
      "0.718750 0.687500           32           32.0        1        7     1207\n",
      "0.687500 0.656250           64           64.0        7        7      304\n",
      "0.640625 0.593750          128          128.0        5        1      823\n",
      "0.625000 0.609375          256          256.0        1        1      301\n",
      "0.544922 0.464844          512          512.0        2        1      199\n",
      "0.466797 0.388672         1024         1024.0        1        1      391\n",
      "0.402344 0.337891         2048         2048.0        7        7      208\n",
      "0.328125 0.253906         4096         4096.0        2        2      952\n",
      "0.279419 0.230713         8192         8192.0        5        2       67\n",
      "0.232727 0.186035        16384        16384.0        3        3     1738\n",
      "0.191132 0.149536        32768        32768.0        3        3       79\n",
      "0.159424 0.127716        65536        65536.0        4        4      547\n",
      "0.135880 0.112335       131072       131072.0        2        2      280\n",
      "0.117374 0.098869       262144       262144.0        5        5      691\n",
      "0.102125 0.086876       524288       524288.0        6        6      421\n",
      "0.090308 0.078491      1048576      1048576.0        1        1     1261\n",
      "0.081231 0.081231      2097152      2097152.0        5        5     2083 h\n",
      "\n",
      "finished run\n",
      "number of examples per pass = 1316717\n",
      "passes used = 3\n",
      "weighted example sum = 3950151.000000\n",
      "weighted label sum = 0.000000\n",
      "average loss = 0.073110 h\n",
      "total feature number = 2345071710\n"
     ]
    },
    {
     "name": "stdout",
     "output_type": "stream",
     "text": [
      "For ngram:3 and pass:3 - score:0.906454329338395\n"
     ]
    }
   ],
   "source": [
    "%%time\n",
    "best_score = 0\n",
    "\n",
    "for ngram in (1,2,3):\n",
    "    for passes in (1,3,5):\n",
    "        !vw --cache --oaa 10 --random_seed 17 --bit_precision 28 --loss_function=hinge --ngram {ngram} --passes {passes} \\\n",
    "        -d stackoverflow_train.vw -f model.vw\n",
    "        \n",
    "        !vw -i model.vw -t -d stackoverflow_valid.vw -p stackoverflow_valid_pred.txt --quiet\n",
    "        \n",
    "        with open('stackoverflow_valid_pred.txt') as pred_file:\n",
    "            valid_pred = [float(label) for label in pred_file.readlines()]\n",
    "            \n",
    "        with open('stackoverflow_valid_labels.txt') as labels_file:\n",
    "            valid_labels = [float(label) for label in labels_file.readlines()]   \n",
    "        \n",
    "        current_score = accuracy_score(valid_labels, valid_pred)\n",
    "        print (\"For ngram:{} and pass:{} - score:{}\".format(ngram, passes, current_score))\n",
    "        if (current_score > best_score):\n",
    "            best_score = current_score\n",
    "            best_ngram = ngram\n",
    "            best_passes = passes"
   ]
  },
  {
   "cell_type": "markdown",
   "metadata": {},
   "source": [
    "<font color='red'> Вопрос 1.</font> Какое сочетание параметров дает наибольшую долю правильных ответов на проверочной выборке `stackoverflow_valid.vw`?\n",
    "- Биграммы и 3 прохода по выборке\n",
    "- Триграммы и 5 проходов по выборке\n",
    "- Биграммы и 1 проход по выборке\n",
    "- Униграммы и 1 проход по выборке"
   ]
  },
  {
   "cell_type": "markdown",
   "metadata": {},
   "source": [
    "Проверьте лучшую (по доле правильных ответов на валидации) модель на тестовой выборке. "
   ]
  },
  {
   "cell_type": "code",
   "execution_count": null,
   "metadata": {
    "collapsed": true
   },
   "outputs": [],
   "source": []
  },
  {
   "cell_type": "markdown",
   "metadata": {},
   "source": [
    "<font color='red'> Вопрос 2.</font> Как соотносятся доли правильных ответов лучшей (по доле правильных ответов на валидации) модели на проверочной и на тестовой выборках? (здесь % – это процентный пункт, т.е., скажем, снижение с 50% до 40% – это на 10%, а не 20%).\n",
    "- На тестовой ниже примерно на 2%\n",
    "- На тестовой ниже примерно на 3%\n",
    "- Результаты почти одинаковы – отличаются меньше чем на 0.5%"
   ]
  },
  {
   "cell_type": "markdown",
   "metadata": {},
   "source": [
    "Обучите VW с параметрами, подобранными на проверочной выборке, теперь на объединении обучающей и проверочной выборок. Посчитайте долю правильных ответов на тестовой выборке. "
   ]
  },
  {
   "cell_type": "code",
   "execution_count": null,
   "metadata": {
    "collapsed": true
   },
   "outputs": [],
   "source": [
    "''' ВАШ КОД ЗДЕСЬ '''"
   ]
  },
  {
   "cell_type": "markdown",
   "metadata": {},
   "source": [
    "<font color='red'> Вопрос 3.</font> На сколько процентных пунктов повысилась доля правильных ответов модели после обучения на вдвое большей выборке (обучающая `stackoverflow_train.vw` + проверочная `stackoverflow_valid.vw`) по сравнению с моделью, обученной только на `stackoverflow_train.vw`?\n",
    " - 0.1%\n",
    " - 0.4%\n",
    " - 0.8%\n",
    " - 1.2%"
   ]
  },
  {
   "cell_type": "markdown",
   "metadata": {},
   "source": [
    "### 5. Заключение"
   ]
  },
  {
   "cell_type": "markdown",
   "metadata": {},
   "source": [
    "В этом задании мы только познакомились с Vowpal Wabbit. Что еще можно попробовать:\n",
    " - Классификация с несколькими ответами (multilabel classification, аргумент  `multilabel_oaa`) – формат данных тут как раз под такую задачу\n",
    " - Настройка параметров VW с hyperopt, авторы библиотеки утверждают, что качество должно сильно зависеть от параметров изменения шага градиентного спуска (`initial_t` и `power_t`). Также можно потестировать разные функции потерь – обучать логистическую регресиию или линейный SVM\n",
    " - Познакомиться с факторизационными машинами и их реализацией в VW (аргумент `lrq`)"
   ]
  }
 ],
 "metadata": {
  "kernelspec": {
   "display_name": "Python 3",
   "language": "python",
   "name": "python3"
  },
  "language_info": {
   "codemirror_mode": {
    "name": "ipython",
    "version": 3
   },
   "file_extension": ".py",
   "mimetype": "text/x-python",
   "name": "python",
   "nbconvert_exporter": "python",
   "pygments_lexer": "ipython3",
   "version": "3.6.3"
  }
 },
 "nbformat": 4,
 "nbformat_minor": 2
}
